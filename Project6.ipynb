{
 "cells": [
  {
   "cell_type": "code",
   "execution_count": 1,
   "metadata": {},
   "outputs": [],
   "source": [
    "import sys\n",
    "import numpy as np\n",
    "import pandas as pd\n",
    "\n",
    "%matplotlib inline\n",
    "\n",
    "import matplotlib\n",
    "import seaborn as sns\n",
    "from matplotlib import pyplot as plt\n",
    "\n",
    "# plt.style.use('whitegrid')\n",
    "sns.set_style('whitegrid')\n",
    "\n",
    "matplotlib.rcParams.update({'figure.figsize': (10, 6)})\n",
    "matplotlib.rcParams.update({'font.size': 16})\n",
    "matplotlib.rcParams.update({'axes.labelsize': 20})\n",
    "matplotlib.rcParams.update({'xtick.labelsize': 12})\n",
    "matplotlib.rcParams.update({'ytick.labelsize': 12})\n",
    "matplotlib.rcParams.update({'font.family': 'Helvetica, Arial, sans-serif'})\n",
    "\n",
    "%config InlineBackend.figure_format = 'retina'"
   ]
  },
  {
   "cell_type": "code",
   "execution_count": 8,
   "metadata": {},
   "outputs": [],
   "source": [
    "data = pd.read_csv('data/diamonds.csv')\n",
    "data.drop(['Unnamed: 0'], axis=1, inplace=True)\n",
    "data = data[['carat', 'x', 'y', 'z', 'depth', 'table', 'price', \n",
    "             'clarity', 'color',\n",
    "             'cut']]\n",
    "\n",
    "data['clarity-color'] = data['clarity'] + \"-\" + data['color']\n",
    "\n",
    "for col in ['color', 'clarity', 'cut']:\n",
    "    data[col] = data[col].astype('category');\n",
    "    data[col] = data[col].cat.codes\n",
    "    \n",
    "normalized_data = data;\n",
    "for col in ['carat', 'x', 'y', 'z', 'depth', 'table', 'price']:\n",
    "    data[col] = data[col]/data[col].max()\n",
    "\n",
    "data_cross = pd.concat([normalized_data, pd.get_dummies(data['clarity-color'])], axis=1)\n",
    "data_cross.drop(['clarity-color'], axis=1, inplace=True)\n",
    "\n",
    "data.drop(['clarity-color'], axis=1, inplace=True)"
   ]
  },
  {
   "cell_type": "code",
   "execution_count": null,
   "metadata": {},
   "outputs": [],
   "source": [
    "normalized_data.plot(kind='box', logy=True)\n",
    "plt.show()\n"
   ]
  },
  {
   "cell_type": "code",
   "execution_count": null,
   "metadata": {},
   "outputs": [],
   "source": [
    "# Linear dimensionality reduction: Linear PCA\n",
    "from sklearn.decomposition import PCA\n",
    "\n",
    "# [CITE] \"04. Dimension Reduction and Images Notebook\" by Eric Larson\n",
    "# i.e. the number of dimensions\n",
    "test_components_count = 10\n",
    "\n",
    "def linear_pca(n_components, matrix):\n",
    "    pca = PCA(n_components=n_components)\n",
    "    %time pca.fit(matrix)\n",
    "    return pca\n",
    "\n",
    "\n",
    "# [CITE] \"04. Dimension Reduction and Images Notebook\" by Eric Larson\n",
    "\n",
    "def pca_comp_range(p):\n",
    "    return np.arange(0,p.n_components)\n",
    "\n",
    "def explained_var(p):\n",
    "    return p.explained_variance_ratio_\n",
    "\n",
    "def cumulative_explained_var(p):\n",
    "    return np.cumsum(explained_var(p))\n",
    "\n",
    "def find_nearest_x_for_y(x,y,value):\n",
    "    index = np.abs(y-value).argmin()\n",
    "    return x[index]\n",
    "\n",
    "def find_90_percent_dimension_count(p):\n",
    "    return find_nearest_x_for_y(pca_comp_range(p), cumulative_explained_var(p),0.9)\n",
    "\n",
    "def plot_explained_variance(pca):    \n",
    "    fig, g = plt.subplots()\n",
    "    cr = pca_comp_range(pca)\n",
    "    expvar = explained_var(pca)\n",
    "    cumexpvar = cumulative_explained_var(pca)\n",
    "    \n",
    "    g.fill_between(cr, 0, expvar, color='blue', \n",
    "        label='individual explained variance')\n",
    "    g.plot(cr, cumexpvar, color='orange', linestyle='-', marker='', \n",
    "        label='cumulative explained variance')\n",
    "    g.axhline(y=0.9,color='gray',linestyle='--', \n",
    "        label='90% accuracy target')\n",
    "    \n",
    "    g.set(xlabel='Principal components',ylabel='Explained variance ratio',\n",
    "        xlim=(0,pca.n_components),ylim=(0,1),\n",
    "        title='Explained variance of components')\n",
    "    g.legend(loc='lower right')\n",
    "    plt.show()"
   ]
  },
  {
   "cell_type": "code",
   "execution_count": null,
   "metadata": {},
   "outputs": [],
   "source": [
    "data_matrix = np.asarray(normalized_data)\n",
    "\n",
    "test_pca = linear_pca(test_components_count, data_matrix)"
   ]
  },
  {
   "cell_type": "code",
   "execution_count": null,
   "metadata": {},
   "outputs": [],
   "source": [
    "plot_explained_variance(test_pca)"
   ]
  },
  {
   "cell_type": "code",
   "execution_count": null,
   "metadata": {},
   "outputs": [],
   "source": []
  }
 ],
 "metadata": {
  "kernelspec": {
   "display_name": "Python 3",
   "language": "python",
   "name": "python3"
  },
  "language_info": {
   "codemirror_mode": {
    "name": "ipython",
    "version": 3
   },
   "file_extension": ".py",
   "mimetype": "text/x-python",
   "name": "python",
   "nbconvert_exporter": "python",
   "pygments_lexer": "ipython3",
   "version": "3.6.3"
  }
 },
 "nbformat": 4,
 "nbformat_minor": 2
}
